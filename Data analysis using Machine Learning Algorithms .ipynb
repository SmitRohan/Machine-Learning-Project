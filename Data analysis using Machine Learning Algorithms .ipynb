{
    "nbformat_minor": 1, 
    "cells": [
        {
            "execution_count": 2, 
            "cell_type": "code", 
            "metadata": {
                "scrolled": true
            }, 
            "outputs": [
                {
                    "output_type": "stream", 
                    "name": "stdout", 
                    "text": "--2019-02-06 13:59:07--  https://s3-api.us-geo.objectstorage.softlayer.net/cf-courses-data/CognitiveClass/ML0101ENv3/labs/Cust_Segmentation.csv\nResolving s3-api.us-geo.objectstorage.softlayer.net (s3-api.us-geo.objectstorage.softlayer.net)... 67.228.254.193\nConnecting to s3-api.us-geo.objectstorage.softlayer.net (s3-api.us-geo.objectstorage.softlayer.net)|67.228.254.193|:443... connected.\nHTTP request sent, awaiting response... 200 OK\nLength: 34276 (33K) [text/csv]\nSaving to: \u2018Cust_Segmentation.csv\u2019\n\n100%[======================================>] 34,276      --.-K/s   in 0.002s  \n\n2019-02-06 13:59:07 (15.2 MB/s) - \u2018Cust_Segmentation.csv\u2019 saved [34276/34276]\n\n"
                }
            ], 
            "source": "!wget -O Cust_Segmentation.csv https://s3-api.us-geo.objectstorage.softlayer.net/cf-courses-data/CognitiveClass/ML0101ENv3/labs/Cust_Segmentation.csv"
        }, 
        {
            "execution_count": 4, 
            "cell_type": "code", 
            "metadata": {}, 
            "outputs": [], 
            "source": "import pandas as pd"
        }, 
        {
            "execution_count": 5, 
            "cell_type": "code", 
            "metadata": {}, 
            "outputs": [], 
            "source": "Data=pd.read_csv(\"Cust_Segmentation.csv\")"
        }, 
        {
            "execution_count": 6, 
            "cell_type": "code", 
            "metadata": {
                "scrolled": true
            }, 
            "outputs": [
                {
                    "execution_count": 6, 
                    "metadata": {}, 
                    "data": {
                        "text/html": "<div>\n<style scoped>\n    .dataframe tbody tr th:only-of-type {\n        vertical-align: middle;\n    }\n\n    .dataframe tbody tr th {\n        vertical-align: top;\n    }\n\n    .dataframe thead th {\n        text-align: right;\n    }\n</style>\n<table border=\"1\" class=\"dataframe\">\n  <thead>\n    <tr style=\"text-align: right;\">\n      <th></th>\n      <th>Customer Id</th>\n      <th>Age</th>\n      <th>Edu</th>\n      <th>Years Employed</th>\n      <th>Income</th>\n      <th>Card Debt</th>\n      <th>Other Debt</th>\n      <th>Defaulted</th>\n      <th>Address</th>\n      <th>DebtIncomeRatio</th>\n    </tr>\n  </thead>\n  <tbody>\n    <tr>\n      <th>0</th>\n      <td>1</td>\n      <td>41</td>\n      <td>2</td>\n      <td>6</td>\n      <td>19</td>\n      <td>0.124</td>\n      <td>1.073</td>\n      <td>0.0</td>\n      <td>NBA001</td>\n      <td>6.3</td>\n    </tr>\n    <tr>\n      <th>1</th>\n      <td>2</td>\n      <td>47</td>\n      <td>1</td>\n      <td>26</td>\n      <td>100</td>\n      <td>4.582</td>\n      <td>8.218</td>\n      <td>0.0</td>\n      <td>NBA021</td>\n      <td>12.8</td>\n    </tr>\n    <tr>\n      <th>2</th>\n      <td>3</td>\n      <td>33</td>\n      <td>2</td>\n      <td>10</td>\n      <td>57</td>\n      <td>6.111</td>\n      <td>5.802</td>\n      <td>1.0</td>\n      <td>NBA013</td>\n      <td>20.9</td>\n    </tr>\n    <tr>\n      <th>3</th>\n      <td>4</td>\n      <td>29</td>\n      <td>2</td>\n      <td>4</td>\n      <td>19</td>\n      <td>0.681</td>\n      <td>0.516</td>\n      <td>0.0</td>\n      <td>NBA009</td>\n      <td>6.3</td>\n    </tr>\n    <tr>\n      <th>4</th>\n      <td>5</td>\n      <td>47</td>\n      <td>1</td>\n      <td>31</td>\n      <td>253</td>\n      <td>9.308</td>\n      <td>8.908</td>\n      <td>0.0</td>\n      <td>NBA008</td>\n      <td>7.2</td>\n    </tr>\n    <tr>\n      <th>5</th>\n      <td>6</td>\n      <td>40</td>\n      <td>1</td>\n      <td>23</td>\n      <td>81</td>\n      <td>0.998</td>\n      <td>7.831</td>\n      <td>NaN</td>\n      <td>NBA016</td>\n      <td>10.9</td>\n    </tr>\n    <tr>\n      <th>6</th>\n      <td>7</td>\n      <td>38</td>\n      <td>2</td>\n      <td>4</td>\n      <td>56</td>\n      <td>0.442</td>\n      <td>0.454</td>\n      <td>0.0</td>\n      <td>NBA013</td>\n      <td>1.6</td>\n    </tr>\n    <tr>\n      <th>7</th>\n      <td>8</td>\n      <td>42</td>\n      <td>3</td>\n      <td>0</td>\n      <td>64</td>\n      <td>0.279</td>\n      <td>3.945</td>\n      <td>0.0</td>\n      <td>NBA009</td>\n      <td>6.6</td>\n    </tr>\n    <tr>\n      <th>8</th>\n      <td>9</td>\n      <td>26</td>\n      <td>1</td>\n      <td>5</td>\n      <td>18</td>\n      <td>0.575</td>\n      <td>2.215</td>\n      <td>NaN</td>\n      <td>NBA006</td>\n      <td>15.5</td>\n    </tr>\n    <tr>\n      <th>9</th>\n      <td>10</td>\n      <td>47</td>\n      <td>3</td>\n      <td>23</td>\n      <td>115</td>\n      <td>0.653</td>\n      <td>3.947</td>\n      <td>0.0</td>\n      <td>NBA011</td>\n      <td>4.0</td>\n    </tr>\n    <tr>\n      <th>10</th>\n      <td>11</td>\n      <td>44</td>\n      <td>3</td>\n      <td>8</td>\n      <td>88</td>\n      <td>0.285</td>\n      <td>5.083</td>\n      <td>1.0</td>\n      <td>NBA010</td>\n      <td>6.1</td>\n    </tr>\n    <tr>\n      <th>11</th>\n      <td>12</td>\n      <td>34</td>\n      <td>2</td>\n      <td>9</td>\n      <td>40</td>\n      <td>0.374</td>\n      <td>0.266</td>\n      <td>NaN</td>\n      <td>NBA003</td>\n      <td>1.6</td>\n    </tr>\n    <tr>\n      <th>12</th>\n      <td>13</td>\n      <td>24</td>\n      <td>1</td>\n      <td>7</td>\n      <td>18</td>\n      <td>0.526</td>\n      <td>0.643</td>\n      <td>0.0</td>\n      <td>NBA000</td>\n      <td>6.5</td>\n    </tr>\n    <tr>\n      <th>13</th>\n      <td>14</td>\n      <td>46</td>\n      <td>1</td>\n      <td>6</td>\n      <td>30</td>\n      <td>1.415</td>\n      <td>3.865</td>\n      <td>NaN</td>\n      <td>NBA019</td>\n      <td>17.6</td>\n    </tr>\n    <tr>\n      <th>14</th>\n      <td>15</td>\n      <td>28</td>\n      <td>3</td>\n      <td>2</td>\n      <td>20</td>\n      <td>0.233</td>\n      <td>1.647</td>\n      <td>1.0</td>\n      <td>NBA000</td>\n      <td>9.4</td>\n    </tr>\n    <tr>\n      <th>15</th>\n      <td>16</td>\n      <td>24</td>\n      <td>1</td>\n      <td>1</td>\n      <td>16</td>\n      <td>0.185</td>\n      <td>1.287</td>\n      <td>NaN</td>\n      <td>NBA005</td>\n      <td>9.2</td>\n    </tr>\n    <tr>\n      <th>16</th>\n      <td>17</td>\n      <td>29</td>\n      <td>1</td>\n      <td>1</td>\n      <td>17</td>\n      <td>0.132</td>\n      <td>0.293</td>\n      <td>0.0</td>\n      <td>NBA004</td>\n      <td>2.5</td>\n    </tr>\n    <tr>\n      <th>17</th>\n      <td>18</td>\n      <td>43</td>\n      <td>4</td>\n      <td>1</td>\n      <td>26</td>\n      <td>1.519</td>\n      <td>1.237</td>\n      <td>0.0</td>\n      <td>NBA005</td>\n      <td>10.6</td>\n    </tr>\n    <tr>\n      <th>18</th>\n      <td>19</td>\n      <td>44</td>\n      <td>1</td>\n      <td>18</td>\n      <td>61</td>\n      <td>2.806</td>\n      <td>3.782</td>\n      <td>NaN</td>\n      <td>NBA000</td>\n      <td>10.8</td>\n    </tr>\n    <tr>\n      <th>19</th>\n      <td>20</td>\n      <td>36</td>\n      <td>1</td>\n      <td>16</td>\n      <td>32</td>\n      <td>0.544</td>\n      <td>2.944</td>\n      <td>NaN</td>\n      <td>NBA013</td>\n      <td>10.9</td>\n    </tr>\n    <tr>\n      <th>20</th>\n      <td>21</td>\n      <td>29</td>\n      <td>2</td>\n      <td>6</td>\n      <td>25</td>\n      <td>0.585</td>\n      <td>0.465</td>\n      <td>0.0</td>\n      <td>NBA009</td>\n      <td>4.2</td>\n    </tr>\n    <tr>\n      <th>21</th>\n      <td>22</td>\n      <td>36</td>\n      <td>3</td>\n      <td>10</td>\n      <td>43</td>\n      <td>0.961</td>\n      <td>4.629</td>\n      <td>0.0</td>\n      <td>NBA004</td>\n      <td>13.0</td>\n    </tr>\n    <tr>\n      <th>22</th>\n      <td>23</td>\n      <td>28</td>\n      <td>3</td>\n      <td>6</td>\n      <td>47</td>\n      <td>5.574</td>\n      <td>3.732</td>\n      <td>1.0</td>\n      <td>NBA008</td>\n      <td>19.8</td>\n    </tr>\n    <tr>\n      <th>23</th>\n      <td>24</td>\n      <td>45</td>\n      <td>1</td>\n      <td>19</td>\n      <td>77</td>\n      <td>2.303</td>\n      <td>4.165</td>\n      <td>0.0</td>\n      <td>NBA022</td>\n      <td>8.4</td>\n    </tr>\n    <tr>\n      <th>24</th>\n      <td>25</td>\n      <td>37</td>\n      <td>4</td>\n      <td>10</td>\n      <td>123</td>\n      <td>3.022</td>\n      <td>18.257</td>\n      <td>0.0</td>\n      <td>NBA018</td>\n      <td>17.3</td>\n    </tr>\n    <tr>\n      <th>25</th>\n      <td>26</td>\n      <td>43</td>\n      <td>1</td>\n      <td>9</td>\n      <td>66</td>\n      <td>2.341</td>\n      <td>3.467</td>\n      <td>NaN</td>\n      <td>NBA008</td>\n      <td>8.8</td>\n    </tr>\n    <tr>\n      <th>26</th>\n      <td>27</td>\n      <td>24</td>\n      <td>1</td>\n      <td>4</td>\n      <td>21</td>\n      <td>0.099</td>\n      <td>0.447</td>\n      <td>0.0</td>\n      <td>NBA002</td>\n      <td>2.6</td>\n    </tr>\n    <tr>\n      <th>27</th>\n      <td>28</td>\n      <td>37</td>\n      <td>1</td>\n      <td>19</td>\n      <td>38</td>\n      <td>2.591</td>\n      <td>2.539</td>\n      <td>NaN</td>\n      <td>NBA007</td>\n      <td>13.5</td>\n    </tr>\n    <tr>\n      <th>28</th>\n      <td>29</td>\n      <td>38</td>\n      <td>2</td>\n      <td>13</td>\n      <td>59</td>\n      <td>0.408</td>\n      <td>1.008</td>\n      <td>0.0</td>\n      <td>NBA000</td>\n      <td>2.4</td>\n    </tr>\n    <tr>\n      <th>29</th>\n      <td>30</td>\n      <td>34</td>\n      <td>2</td>\n      <td>9</td>\n      <td>45</td>\n      <td>1.118</td>\n      <td>3.427</td>\n      <td>0.0</td>\n      <td>NBA013</td>\n      <td>10.1</td>\n    </tr>\n    <tr>\n      <th>...</th>\n      <td>...</td>\n      <td>...</td>\n      <td>...</td>\n      <td>...</td>\n      <td>...</td>\n      <td>...</td>\n      <td>...</td>\n      <td>...</td>\n      <td>...</td>\n      <td>...</td>\n    </tr>\n    <tr>\n      <th>820</th>\n      <td>821</td>\n      <td>37</td>\n      <td>1</td>\n      <td>4</td>\n      <td>24</td>\n      <td>0.419</td>\n      <td>2.989</td>\n      <td>NaN</td>\n      <td>NBA010</td>\n      <td>14.2</td>\n    </tr>\n    <tr>\n      <th>821</th>\n      <td>822</td>\n      <td>32</td>\n      <td>1</td>\n      <td>16</td>\n      <td>38</td>\n      <td>0.694</td>\n      <td>7.286</td>\n      <td>0.0</td>\n      <td>NBA010</td>\n      <td>21.0</td>\n    </tr>\n    <tr>\n      <th>822</th>\n      <td>823</td>\n      <td>45</td>\n      <td>1</td>\n      <td>3</td>\n      <td>20</td>\n      <td>0.105</td>\n      <td>0.315</td>\n      <td>0.0</td>\n      <td>NBA015</td>\n      <td>2.1</td>\n    </tr>\n    <tr>\n      <th>823</th>\n      <td>824</td>\n      <td>27</td>\n      <td>4</td>\n      <td>0</td>\n      <td>25</td>\n      <td>1.419</td>\n      <td>1.756</td>\n      <td>1.0</td>\n      <td>NBA000</td>\n      <td>12.7</td>\n    </tr>\n    <tr>\n      <th>824</th>\n      <td>825</td>\n      <td>41</td>\n      <td>2</td>\n      <td>4</td>\n      <td>26</td>\n      <td>1.473</td>\n      <td>3.519</td>\n      <td>1.0</td>\n      <td>NBA014</td>\n      <td>19.2</td>\n    </tr>\n    <tr>\n      <th>825</th>\n      <td>826</td>\n      <td>32</td>\n      <td>2</td>\n      <td>12</td>\n      <td>116</td>\n      <td>4.027</td>\n      <td>2.585</td>\n      <td>NaN</td>\n      <td>NBA011</td>\n      <td>5.7</td>\n    </tr>\n    <tr>\n      <th>826</th>\n      <td>827</td>\n      <td>48</td>\n      <td>1</td>\n      <td>13</td>\n      <td>50</td>\n      <td>6.114</td>\n      <td>9.286</td>\n      <td>1.0</td>\n      <td>NBA020</td>\n      <td>30.8</td>\n    </tr>\n    <tr>\n      <th>827</th>\n      <td>828</td>\n      <td>50</td>\n      <td>1</td>\n      <td>1</td>\n      <td>26</td>\n      <td>1.852</td>\n      <td>1.866</td>\n      <td>0.0</td>\n      <td>NBA026</td>\n      <td>14.3</td>\n    </tr>\n    <tr>\n      <th>828</th>\n      <td>829</td>\n      <td>45</td>\n      <td>3</td>\n      <td>0</td>\n      <td>22</td>\n      <td>0.030</td>\n      <td>0.894</td>\n      <td>0.0</td>\n      <td>NBA019</td>\n      <td>4.2</td>\n    </tr>\n    <tr>\n      <th>829</th>\n      <td>830</td>\n      <td>33</td>\n      <td>2</td>\n      <td>2</td>\n      <td>37</td>\n      <td>0.834</td>\n      <td>0.831</td>\n      <td>0.0</td>\n      <td>NBA009</td>\n      <td>4.5</td>\n    </tr>\n    <tr>\n      <th>830</th>\n      <td>831</td>\n      <td>33</td>\n      <td>1</td>\n      <td>13</td>\n      <td>52</td>\n      <td>2.714</td>\n      <td>8.362</td>\n      <td>1.0</td>\n      <td>NBA003</td>\n      <td>21.3</td>\n    </tr>\n    <tr>\n      <th>831</th>\n      <td>832</td>\n      <td>27</td>\n      <td>2</td>\n      <td>8</td>\n      <td>18</td>\n      <td>0.401</td>\n      <td>1.741</td>\n      <td>0.0</td>\n      <td>NBA007</td>\n      <td>11.9</td>\n    </tr>\n    <tr>\n      <th>832</th>\n      <td>833</td>\n      <td>36</td>\n      <td>2</td>\n      <td>7</td>\n      <td>43</td>\n      <td>2.649</td>\n      <td>3.973</td>\n      <td>0.0</td>\n      <td>NBA016</td>\n      <td>15.4</td>\n    </tr>\n    <tr>\n      <th>833</th>\n      <td>834</td>\n      <td>30</td>\n      <td>4</td>\n      <td>7</td>\n      <td>30</td>\n      <td>0.264</td>\n      <td>4.446</td>\n      <td>0.0</td>\n      <td>NBA010</td>\n      <td>15.7</td>\n    </tr>\n    <tr>\n      <th>834</th>\n      <td>835</td>\n      <td>28</td>\n      <td>2</td>\n      <td>3</td>\n      <td>36</td>\n      <td>0.384</td>\n      <td>2.712</td>\n      <td>0.0</td>\n      <td>NBA001</td>\n      <td>8.6</td>\n    </tr>\n    <tr>\n      <th>835</th>\n      <td>836</td>\n      <td>21</td>\n      <td>3</td>\n      <td>0</td>\n      <td>41</td>\n      <td>2.367</td>\n      <td>5.628</td>\n      <td>NaN</td>\n      <td>NBA001</td>\n      <td>19.5</td>\n    </tr>\n    <tr>\n      <th>836</th>\n      <td>837</td>\n      <td>23</td>\n      <td>2</td>\n      <td>3</td>\n      <td>24</td>\n      <td>0.552</td>\n      <td>0.960</td>\n      <td>0.0</td>\n      <td>NBA004</td>\n      <td>6.3</td>\n    </tr>\n    <tr>\n      <th>837</th>\n      <td>838</td>\n      <td>23</td>\n      <td>1</td>\n      <td>7</td>\n      <td>22</td>\n      <td>0.849</td>\n      <td>2.319</td>\n      <td>0.0</td>\n      <td>NBA003</td>\n      <td>14.4</td>\n    </tr>\n    <tr>\n      <th>838</th>\n      <td>839</td>\n      <td>26</td>\n      <td>1</td>\n      <td>10</td>\n      <td>25</td>\n      <td>1.306</td>\n      <td>0.469</td>\n      <td>0.0</td>\n      <td>NBA001</td>\n      <td>7.1</td>\n    </tr>\n    <tr>\n      <th>839</th>\n      <td>840</td>\n      <td>31</td>\n      <td>1</td>\n      <td>8</td>\n      <td>22</td>\n      <td>0.370</td>\n      <td>1.104</td>\n      <td>0.0</td>\n      <td>NBA001</td>\n      <td>6.7</td>\n    </tr>\n    <tr>\n      <th>840</th>\n      <td>841</td>\n      <td>38</td>\n      <td>3</td>\n      <td>13</td>\n      <td>25</td>\n      <td>0.343</td>\n      <td>1.082</td>\n      <td>0.0</td>\n      <td>NBA018</td>\n      <td>5.7</td>\n    </tr>\n    <tr>\n      <th>841</th>\n      <td>842</td>\n      <td>29</td>\n      <td>3</td>\n      <td>7</td>\n      <td>63</td>\n      <td>0.572</td>\n      <td>2.893</td>\n      <td>0.0</td>\n      <td>NBA001</td>\n      <td>5.5</td>\n    </tr>\n    <tr>\n      <th>842</th>\n      <td>843</td>\n      <td>32</td>\n      <td>1</td>\n      <td>14</td>\n      <td>36</td>\n      <td>0.273</td>\n      <td>0.591</td>\n      <td>0.0</td>\n      <td>NBA000</td>\n      <td>2.4</td>\n    </tr>\n    <tr>\n      <th>843</th>\n      <td>844</td>\n      <td>32</td>\n      <td>2</td>\n      <td>8</td>\n      <td>45</td>\n      <td>0.982</td>\n      <td>0.683</td>\n      <td>0.0</td>\n      <td>NBA002</td>\n      <td>3.7</td>\n    </tr>\n    <tr>\n      <th>844</th>\n      <td>845</td>\n      <td>41</td>\n      <td>1</td>\n      <td>7</td>\n      <td>43</td>\n      <td>0.694</td>\n      <td>1.198</td>\n      <td>0.0</td>\n      <td>NBA011</td>\n      <td>4.4</td>\n    </tr>\n    <tr>\n      <th>845</th>\n      <td>846</td>\n      <td>27</td>\n      <td>1</td>\n      <td>5</td>\n      <td>26</td>\n      <td>0.548</td>\n      <td>1.220</td>\n      <td>NaN</td>\n      <td>NBA007</td>\n      <td>6.8</td>\n    </tr>\n    <tr>\n      <th>846</th>\n      <td>847</td>\n      <td>28</td>\n      <td>2</td>\n      <td>7</td>\n      <td>34</td>\n      <td>0.359</td>\n      <td>2.021</td>\n      <td>0.0</td>\n      <td>NBA002</td>\n      <td>7.0</td>\n    </tr>\n    <tr>\n      <th>847</th>\n      <td>848</td>\n      <td>25</td>\n      <td>4</td>\n      <td>0</td>\n      <td>18</td>\n      <td>2.802</td>\n      <td>3.210</td>\n      <td>1.0</td>\n      <td>NBA001</td>\n      <td>33.4</td>\n    </tr>\n    <tr>\n      <th>848</th>\n      <td>849</td>\n      <td>32</td>\n      <td>1</td>\n      <td>12</td>\n      <td>28</td>\n      <td>0.116</td>\n      <td>0.696</td>\n      <td>0.0</td>\n      <td>NBA012</td>\n      <td>2.9</td>\n    </tr>\n    <tr>\n      <th>849</th>\n      <td>850</td>\n      <td>52</td>\n      <td>1</td>\n      <td>16</td>\n      <td>64</td>\n      <td>1.866</td>\n      <td>3.638</td>\n      <td>0.0</td>\n      <td>NBA025</td>\n      <td>8.6</td>\n    </tr>\n  </tbody>\n</table>\n<p>850 rows \u00d7 10 columns</p>\n</div>", 
                        "text/plain": "     Customer Id  Age  Edu  Years Employed  Income  Card Debt  Other Debt  \\\n0              1   41    2               6      19      0.124       1.073   \n1              2   47    1              26     100      4.582       8.218   \n2              3   33    2              10      57      6.111       5.802   \n3              4   29    2               4      19      0.681       0.516   \n4              5   47    1              31     253      9.308       8.908   \n5              6   40    1              23      81      0.998       7.831   \n6              7   38    2               4      56      0.442       0.454   \n7              8   42    3               0      64      0.279       3.945   \n8              9   26    1               5      18      0.575       2.215   \n9             10   47    3              23     115      0.653       3.947   \n10            11   44    3               8      88      0.285       5.083   \n11            12   34    2               9      40      0.374       0.266   \n12            13   24    1               7      18      0.526       0.643   \n13            14   46    1               6      30      1.415       3.865   \n14            15   28    3               2      20      0.233       1.647   \n15            16   24    1               1      16      0.185       1.287   \n16            17   29    1               1      17      0.132       0.293   \n17            18   43    4               1      26      1.519       1.237   \n18            19   44    1              18      61      2.806       3.782   \n19            20   36    1              16      32      0.544       2.944   \n20            21   29    2               6      25      0.585       0.465   \n21            22   36    3              10      43      0.961       4.629   \n22            23   28    3               6      47      5.574       3.732   \n23            24   45    1              19      77      2.303       4.165   \n24            25   37    4              10     123      3.022      18.257   \n25            26   43    1               9      66      2.341       3.467   \n26            27   24    1               4      21      0.099       0.447   \n27            28   37    1              19      38      2.591       2.539   \n28            29   38    2              13      59      0.408       1.008   \n29            30   34    2               9      45      1.118       3.427   \n..           ...  ...  ...             ...     ...        ...         ...   \n820          821   37    1               4      24      0.419       2.989   \n821          822   32    1              16      38      0.694       7.286   \n822          823   45    1               3      20      0.105       0.315   \n823          824   27    4               0      25      1.419       1.756   \n824          825   41    2               4      26      1.473       3.519   \n825          826   32    2              12     116      4.027       2.585   \n826          827   48    1              13      50      6.114       9.286   \n827          828   50    1               1      26      1.852       1.866   \n828          829   45    3               0      22      0.030       0.894   \n829          830   33    2               2      37      0.834       0.831   \n830          831   33    1              13      52      2.714       8.362   \n831          832   27    2               8      18      0.401       1.741   \n832          833   36    2               7      43      2.649       3.973   \n833          834   30    4               7      30      0.264       4.446   \n834          835   28    2               3      36      0.384       2.712   \n835          836   21    3               0      41      2.367       5.628   \n836          837   23    2               3      24      0.552       0.960   \n837          838   23    1               7      22      0.849       2.319   \n838          839   26    1              10      25      1.306       0.469   \n839          840   31    1               8      22      0.370       1.104   \n840          841   38    3              13      25      0.343       1.082   \n841          842   29    3               7      63      0.572       2.893   \n842          843   32    1              14      36      0.273       0.591   \n843          844   32    2               8      45      0.982       0.683   \n844          845   41    1               7      43      0.694       1.198   \n845          846   27    1               5      26      0.548       1.220   \n846          847   28    2               7      34      0.359       2.021   \n847          848   25    4               0      18      2.802       3.210   \n848          849   32    1              12      28      0.116       0.696   \n849          850   52    1              16      64      1.866       3.638   \n\n     Defaulted Address  DebtIncomeRatio  \n0          0.0  NBA001              6.3  \n1          0.0  NBA021             12.8  \n2          1.0  NBA013             20.9  \n3          0.0  NBA009              6.3  \n4          0.0  NBA008              7.2  \n5          NaN  NBA016             10.9  \n6          0.0  NBA013              1.6  \n7          0.0  NBA009              6.6  \n8          NaN  NBA006             15.5  \n9          0.0  NBA011              4.0  \n10         1.0  NBA010              6.1  \n11         NaN  NBA003              1.6  \n12         0.0  NBA000              6.5  \n13         NaN  NBA019             17.6  \n14         1.0  NBA000              9.4  \n15         NaN  NBA005              9.2  \n16         0.0  NBA004              2.5  \n17         0.0  NBA005             10.6  \n18         NaN  NBA000             10.8  \n19         NaN  NBA013             10.9  \n20         0.0  NBA009              4.2  \n21         0.0  NBA004             13.0  \n22         1.0  NBA008             19.8  \n23         0.0  NBA022              8.4  \n24         0.0  NBA018             17.3  \n25         NaN  NBA008              8.8  \n26         0.0  NBA002              2.6  \n27         NaN  NBA007             13.5  \n28         0.0  NBA000              2.4  \n29         0.0  NBA013             10.1  \n..         ...     ...              ...  \n820        NaN  NBA010             14.2  \n821        0.0  NBA010             21.0  \n822        0.0  NBA015              2.1  \n823        1.0  NBA000             12.7  \n824        1.0  NBA014             19.2  \n825        NaN  NBA011              5.7  \n826        1.0  NBA020             30.8  \n827        0.0  NBA026             14.3  \n828        0.0  NBA019              4.2  \n829        0.0  NBA009              4.5  \n830        1.0  NBA003             21.3  \n831        0.0  NBA007             11.9  \n832        0.0  NBA016             15.4  \n833        0.0  NBA010             15.7  \n834        0.0  NBA001              8.6  \n835        NaN  NBA001             19.5  \n836        0.0  NBA004              6.3  \n837        0.0  NBA003             14.4  \n838        0.0  NBA001              7.1  \n839        0.0  NBA001              6.7  \n840        0.0  NBA018              5.7  \n841        0.0  NBA001              5.5  \n842        0.0  NBA000              2.4  \n843        0.0  NBA002              3.7  \n844        0.0  NBA011              4.4  \n845        NaN  NBA007              6.8  \n846        0.0  NBA002              7.0  \n847        1.0  NBA001             33.4  \n848        0.0  NBA012              2.9  \n849        0.0  NBA025              8.6  \n\n[850 rows x 10 columns]"
                    }, 
                    "output_type": "execute_result"
                }
            ], 
            "source": "Data"
        }, 
        {
            "execution_count": 74, 
            "cell_type": "code", 
            "metadata": {}, 
            "outputs": [
                {
                    "execution_count": 74, 
                    "metadata": {}, 
                    "data": {
                        "text/html": "<div>\n<style scoped>\n    .dataframe tbody tr th:only-of-type {\n        vertical-align: middle;\n    }\n\n    .dataframe tbody tr th {\n        vertical-align: top;\n    }\n\n    .dataframe thead th {\n        text-align: right;\n    }\n</style>\n<table border=\"1\" class=\"dataframe\">\n  <thead>\n    <tr style=\"text-align: right;\">\n      <th></th>\n      <th>Customer Id</th>\n      <th>Age</th>\n      <th>Edu</th>\n      <th>Years Employed</th>\n      <th>Income</th>\n      <th>Card Debt</th>\n      <th>Other Debt</th>\n      <th>Defaulted</th>\n      <th>DebtIncomeRatio</th>\n    </tr>\n  </thead>\n  <tbody>\n    <tr>\n      <th>0</th>\n      <td>1</td>\n      <td>41</td>\n      <td>2</td>\n      <td>6</td>\n      <td>19</td>\n      <td>0.124</td>\n      <td>1.073</td>\n      <td>0.0</td>\n      <td>6.3</td>\n    </tr>\n    <tr>\n      <th>1</th>\n      <td>2</td>\n      <td>47</td>\n      <td>1</td>\n      <td>26</td>\n      <td>100</td>\n      <td>4.582</td>\n      <td>8.218</td>\n      <td>0.0</td>\n      <td>12.8</td>\n    </tr>\n    <tr>\n      <th>2</th>\n      <td>3</td>\n      <td>33</td>\n      <td>2</td>\n      <td>10</td>\n      <td>57</td>\n      <td>6.111</td>\n      <td>5.802</td>\n      <td>1.0</td>\n      <td>20.9</td>\n    </tr>\n    <tr>\n      <th>3</th>\n      <td>4</td>\n      <td>29</td>\n      <td>2</td>\n      <td>4</td>\n      <td>19</td>\n      <td>0.681</td>\n      <td>0.516</td>\n      <td>0.0</td>\n      <td>6.3</td>\n    </tr>\n    <tr>\n      <th>4</th>\n      <td>5</td>\n      <td>47</td>\n      <td>1</td>\n      <td>31</td>\n      <td>253</td>\n      <td>9.308</td>\n      <td>8.908</td>\n      <td>0.0</td>\n      <td>7.2</td>\n    </tr>\n  </tbody>\n</table>\n</div>", 
                        "text/plain": "   Customer Id  Age  Edu  Years Employed  Income  Card Debt  Other Debt  \\\n0            1   41    2               6      19      0.124       1.073   \n1            2   47    1              26     100      4.582       8.218   \n2            3   33    2              10      57      6.111       5.802   \n3            4   29    2               4      19      0.681       0.516   \n4            5   47    1              31     253      9.308       8.908   \n\n   Defaulted  DebtIncomeRatio  \n0        0.0              6.3  \n1        0.0             12.8  \n2        1.0             20.9  \n3        0.0              6.3  \n4        0.0              7.2  "
                    }, 
                    "output_type": "execute_result"
                }
            ], 
            "source": "#As you can see address is categorical variable so we will have to remove it\nData1 = Data.drop('Address', axis=1)\nData1.head()\n"
        }, 
        {
            "execution_count": 13, 
            "cell_type": "code", 
            "metadata": {}, 
            "outputs": [
                {
                    "execution_count": 13, 
                    "metadata": {}, 
                    "data": {
                        "text/plain": "array([[ 41.   ,   2.   ,   6.   , ...,   0.124,   1.073,   6.3  ],\n       [ 47.   ,   1.   ,  26.   , ...,   4.582,   8.218,  12.8  ],\n       [ 33.   ,   2.   ,  10.   , ...,   6.111,   5.802,  20.9  ],\n       ..., \n       [ 25.   ,   4.   ,   0.   , ...,   2.802,   3.21 ,  33.4  ],\n       [ 32.   ,   1.   ,  12.   , ...,   0.116,   0.696,   2.9  ],\n       [ 52.   ,   1.   ,  16.   , ...,   1.866,   3.638,   8.6  ]])"
                    }, 
                    "output_type": "execute_result"
                }
            ], 
            "source": "a = Data1[['Age','Edu','Years Employed','Income','Card Debt','Other Debt','DebtIncomeRatio']] .values  #.astype(float)\na"
        }, 
        {
            "execution_count": 14, 
            "cell_type": "code", 
            "metadata": {}, 
            "outputs": [
                {
                    "execution_count": 14, 
                    "metadata": {}, 
                    "data": {
                        "text/plain": "array([  0.,   0.,   1.,   0.,   0.,  nan,   0.,   0.,  nan,   0.])"
                    }, 
                    "output_type": "execute_result"
                }
            ], 
            "source": "y = Data1['Defaulted'].values\ny[0:10]\n\n"
        }, 
        {
            "execution_count": 15, 
            "cell_type": "code", 
            "metadata": {}, 
            "outputs": [
                {
                    "execution_count": 15, 
                    "metadata": {}, 
                    "data": {
                        "text/plain": "array([ 0.,  0.,  1.,  0.,  0.,  0.,  0.,  0.,  0.,  0.])"
                    }, 
                    "output_type": "execute_result"
                }
            ], 
            "source": "# As you ca see there are some Nans present in the defaulted column in the data set so we need to convert it to a numerical value \nimport numpy as np\ny = np.nan_to_num(y)\ny[0:10]"
        }, 
        {
            "execution_count": 16, 
            "cell_type": "code", 
            "metadata": {}, 
            "outputs": [
                {
                    "execution_count": 16, 
                    "metadata": {}, 
                    "data": {
                        "text/plain": "array([[ 0.74291541,  0.31212243, -0.37878978, ..., -0.68381116,\n        -0.59048916, -0.57652509],\n       [ 1.48949049, -0.76634938,  2.5737211 , ...,  1.41447366,\n         1.51296181,  0.39138677],\n       [-0.25251804,  0.31212243,  0.2117124 , ...,  2.13414111,\n         0.80170393,  1.59755385],\n       ..., \n       [-1.24795149,  2.46906604, -1.26454304, ...,  0.5766659 ,\n         0.03863257,  3.45892281],\n       [-0.37694723, -0.76634938,  0.50696349, ..., -0.68757659,\n        -0.70147601, -1.08281745],\n       [ 2.1116364 , -0.76634938,  1.09746566, ...,  0.13611081,\n         0.16463355, -0.2340332 ]])"
                    }, 
                    "output_type": "execute_result"
                }
            ], 
            "source": "# Since we are using the different classification models so it is bettrer to normalizing the data set-\nfrom sklearn.preprocessing import StandardScaler\na = np.nan_to_num(a)\nx = StandardScaler().fit_transform(a)"
        }, 
        {
            "execution_count": 17, 
            "cell_type": "code", 
            "metadata": {}, 
            "outputs": [
                {
                    "execution_count": 17, 
                    "metadata": {}, 
                    "data": {
                        "text/plain": "0.0    517\n1.0    183\nName: Defaulted, dtype: int64"
                    }, 
                    "output_type": "execute_result"
                }
            ], 
            "source": "Data1['Defaulted'].value_counts()"
        }, 
        {
            "execution_count": 21, 
            "cell_type": "code", 
            "metadata": {}, 
            "outputs": [
                {
                    "output_type": "stream", 
                    "name": "stdout", 
                    "text": "Train set: (680, 7) (680,)\nTest set: (170, 7) (170,)\n"
                }
            ], 
            "source": "#Train and Test Split-\n#We will train our model on the 80% of the data and test it on the rest 20% \nfrom sklearn.model_selection import train_test_split\nx_train, x_test, y_train, y_test = train_test_split( x, y, test_size=0.2, random_state=4)\nprint ('Train set:', x_train.shape,  y_train.shape)\nprint ('Test set:', x_test.shape,  y_test.shape)"
        }, 
        {
            "execution_count": 22, 
            "cell_type": "code", 
            "metadata": {}, 
            "outputs": [
                {
                    "execution_count": 22, 
                    "metadata": {}, 
                    "data": {
                        "text/plain": "KNeighborsClassifier(algorithm='auto', leaf_size=30, metric='minkowski',\n           metric_params=None, n_jobs=1, n_neighbors=5, p=2,\n           weights='uniform')"
                    }, 
                    "output_type": "execute_result"
                }
            ], 
            "source": "# KNN-\nfrom sklearn.neighbors import KNeighborsClassifier\n# Lets take k=5\nk=5\nknn = KNeighborsClassifier(n_neighbors = k).fit(x_train,y_train) \nknn"
        }, 
        {
            "execution_count": 25, 
            "cell_type": "code", 
            "metadata": {}, 
            "outputs": [
                {
                    "execution_count": 25, 
                    "metadata": {}, 
                    "data": {
                        "text/plain": "array([ 0.,  0.,  0.,  0.,  1.])"
                    }, 
                    "output_type": "execute_result"
                }
            ], 
            "source": "yhat = knn.predict(x_test)\nyhat[0:5]"
        }, 
        {
            "execution_count": 109, 
            "cell_type": "code", 
            "metadata": {}, 
            "outputs": [
                {
                    "output_type": "stream", 
                    "name": "stdout", 
                    "text": "Train set Accuracy:  0.833823529412\nTest set Accuracy:  0.811764705882\n"
                }
            ], 
            "source": "#Accuracy evaluation\n#jaccard_similarity_score function\nfrom sklearn import metrics\nprint(\"Train set Accuracy: \", metrics.accuracy_score(y_train, knn.predict(x_train)))\nprint(\"Test set Accuracy: \", metrics.accuracy_score(y_test, yhat))"
        }, 
        {
            "execution_count": 40, 
            "cell_type": "code", 
            "metadata": {}, 
            "outputs": [
                {
                    "execution_count": 40, 
                    "metadata": {}, 
                    "data": {
                        "text/plain": "array([ 0.75294118,  0.81176471,  0.79411765,  0.81176471,  0.82352941,\n        0.82941176,  0.82352941,  0.81764706,  0.81176471])"
                    }, 
                    "output_type": "execute_result"
                }
            ], 
            "source": "# We can calculate accuracy for different values of K\nks = 10\nmean_acc = np.zeros((ks-1))\nstd_acc = np.zeros((ks-1))\nConfustionMx = [];\nfor n in range(1,ks):\n    \n    #Train Model and Predict  \n    knn = KNeighborsClassifier(n_neighbors = n).fit(x_train,y_train)\n    yhat=knn.predict(x_test)\n    mean_acc[n-1] = metrics.accuracy_score(y_test, yhat)\n\n    \n    std_acc[n-1]=np.std(yhat==y_test)/np.sqrt(yhat.shape[0])\n\nmean_acc"
        }, 
        {
            "execution_count": 41, 
            "cell_type": "code", 
            "metadata": {}, 
            "outputs": [
                {
                    "output_type": "display_data", 
                    "data": {
                        "image/png": "[encoded data removed]", 
                        "text/plain": "<matplotlib.figure.Figure at 0x7fd94b0635f8>"
                    }, 
                    "metadata": {}
                }
            ], 
            "source": "#Ploting model accuracy with different value of K\nimport matplotlib.pyplot as plt\nfrom matplotlib.ticker import NullFormatter\nplt.plot(range(1,ks),mean_acc,'g')\nplt.fill_between(range(1,ks),mean_acc - 1 * std_acc,mean_acc + 1 * std_acc, alpha=0.10)\nplt.legend(('Accuracy ', '+/- 3xstd'))\nplt.ylabel('Accuracy ')\nplt.xlabel('Number of Nabors (K)')\nplt.tight_layout()\nplt.show()"
        }, 
        {
            "execution_count": 42, 
            "cell_type": "code", 
            "metadata": {}, 
            "outputs": [
                {
                    "output_type": "stream", 
                    "name": "stdout", 
                    "text": "The best accuracy was with 0.829411764706 with k= 6\n"
                }
            ], 
            "source": "print( \"The best accuracy was with\", mean_acc.max(), \"with k=\", mean_acc.argmax()+1) "
        }, 
        {
            "execution_count": 98, 
            "cell_type": "code", 
            "metadata": {}, 
            "outputs": [
                {
                    "execution_count": 98, 
                    "metadata": {}, 
                    "data": {
                        "text/plain": "DecisionTreeClassifier(class_weight=None, criterion='entropy', max_depth=4,\n            max_features=None, max_leaf_nodes=None,\n            min_impurity_decrease=0.0, min_impurity_split=None,\n            min_samples_leaf=1, min_samples_split=2,\n            min_weight_fraction_leaf=0.0, presort=False, random_state=None,\n            splitter='best')"
                    }, 
                    "output_type": "execute_result"
                }
            ], 
            "source": "#Decision Trees_\nfrom sklearn.tree import DecisionTreeClassifier\nDT = DecisionTreeClassifier(criterion=\"entropy\", max_depth = 4)\nDT\n"
        }, 
        {
            "execution_count": 99, 
            "cell_type": "code", 
            "metadata": {}, 
            "outputs": [
                {
                    "execution_count": 99, 
                    "metadata": {}, 
                    "data": {
                        "text/plain": "DecisionTreeClassifier(class_weight=None, criterion='entropy', max_depth=4,\n            max_features=None, max_leaf_nodes=None,\n            min_impurity_decrease=0.0, min_impurity_split=None,\n            min_samples_leaf=1, min_samples_split=2,\n            min_weight_fraction_leaf=0.0, presort=False, random_state=None,\n            splitter='best')"
                    }, 
                    "output_type": "execute_result"
                }
            ], 
            "source": "DT.fit(x_train,y_train)\nDT"
        }, 
        {
            "execution_count": 102, 
            "cell_type": "code", 
            "metadata": {}, 
            "outputs": [
                {
                    "execution_count": 102, 
                    "metadata": {}, 
                    "data": {
                        "text/plain": "array([ 0.,  0.,  0.,  0.,  0.])"
                    }, 
                    "output_type": "execute_result"
                }
            ], 
            "source": "yhat_DT = DT.predict(x_test)\nyhat_DT[0:5]"
        }, 
        {
            "execution_count": 103, 
            "cell_type": "code", 
            "metadata": {}, 
            "outputs": [
                {
                    "execution_count": 103, 
                    "metadata": {}, 
                    "data": {
                        "text/plain": "array([ 0.,  0.,  0.,  0.,  0.])"
                    }, 
                    "output_type": "execute_result"
                }
            ], 
            "source": "y_test[0:5]"
        }, 
        {
            "execution_count": 88, 
            "cell_type": "code", 
            "metadata": {}, 
            "outputs": [
                {
                    "output_type": "stream", 
                    "name": "stdout", 
                    "text": "DecisionTrees's Accuracy:  0.788235294118\n"
                }
            ], 
            "source": "#Accuracy Evaluation\nprint(\"DecisionTrees's Accuracy: \", metrics.accuracy_score(y_test,yhat_DT))"
        }, 
        {
            "execution_count": 96, 
            "cell_type": "code", 
            "metadata": {}, 
            "outputs": [], 
            "source": "# With maximum depth=4 the accuracy is 0.788235294118"
        }, 
        {
            "execution_count": 97, 
            "cell_type": "code", 
            "metadata": {}, 
            "outputs": [], 
            "source": "#Logistic Regression-\n"
        }, 
        {
            "execution_count": 153, 
            "cell_type": "code", 
            "metadata": {}, 
            "outputs": [
                {
                    "execution_count": 153, 
                    "metadata": {}, 
                    "data": {
                        "text/plain": "LogisticRegression(C=0.1, class_weight=None, dual=False, fit_intercept=True,\n          intercept_scaling=1, max_iter=100, multi_class='ovr', n_jobs=1,\n          penalty='l2', random_state=None, solver='liblinear', tol=0.0001,\n          verbose=0, warm_start=False)"
                    }, 
                    "output_type": "execute_result"
                }
            ], 
            "source": "from sklearn.linear_model import LogisticRegression\nfrom sklearn.metrics import confusion_matrix\nLR = LogisticRegression(C=0.1, solver='liblinear').fit(x_train,y_train)\nLR\n#liblinear is numerical optimizer to find the parameters.\n#C parameter indicates inverse of regularization strength. Regularization is a technique used to solve the overfitting problem. Smaller values of C specify stronger regularization."
        }, 
        {
            "execution_count": 105, 
            "cell_type": "code", 
            "metadata": {}, 
            "outputs": [
                {
                    "execution_count": 105, 
                    "metadata": {}, 
                    "data": {
                        "text/plain": "array([ 0.,  0.,  0.,  0.,  1.,  0.,  0.,  1.,  0.,  0.,  0.,  0.,  0.,\n        0.,  0.,  0.,  0.,  0.,  0.,  0.,  0.,  0.,  0.,  0.,  0.,  0.,\n        0.,  0.,  0.,  0.,  0.,  0.,  0.,  0.,  0.,  0.,  0.,  0.,  0.,\n        0.,  1.,  0.,  0.,  0.,  0.,  0.,  1.,  0.,  1.,  0.,  0.,  0.,\n        0.,  0.,  0.,  0.,  0.,  0.,  1.,  0.,  0.,  0.,  0.,  0.,  0.,\n        0.,  0.,  0.,  1.,  0.,  0.,  0.,  0.,  0.,  0.,  0.,  0.,  0.,\n        0.,  0.,  0.,  0.,  0.,  1.,  0.,  0.,  0.,  0.,  1.,  0.,  1.,\n        0.,  0.,  0.,  1.,  0.,  0.,  0.,  0.,  0.,  0.,  0.,  0.,  0.,\n        0.,  0.,  0.,  1.,  0.,  0.,  0.,  0.,  0.,  0.,  0.,  0.,  0.,\n        0.,  0.,  0.,  0.,  0.,  0.,  0.,  0.,  0.,  0.,  0.,  0.,  1.,\n        0.,  0.,  0.,  0.,  0.,  0.,  0.,  0.,  0.,  0.,  0.,  0.,  1.,\n        0.,  0.,  0.,  0.,  0.,  1.,  0.,  0.,  1.,  0.,  0.,  0.,  0.,\n        0.,  0.,  0.,  0.,  0.,  0.,  0.,  1.,  0.,  0.,  0.,  0.,  0.,  0.])"
                    }, 
                    "output_type": "execute_result"
                }
            ], 
            "source": "yhat_LR = LR.predict(x_test)\nyhat_LR"
        }, 
        {
            "execution_count": 154, 
            "cell_type": "code", 
            "metadata": {}, 
            "outputs": [
                {
                    "execution_count": 154, 
                    "metadata": {}, 
                    "data": {
                        "text/plain": "array([[ 0.83,  0.17],\n       [ 0.93,  0.07],\n       [ 0.85,  0.15],\n       [ 0.87,  0.13],\n       [ 0.27,  0.73],\n       [ 0.56,  0.44],\n       [ 0.94,  0.06],\n       [ 0.44,  0.56],\n       [ 0.61,  0.39],\n       [ 0.87,  0.13],\n       [ 0.86,  0.14],\n       [ 0.8 ,  0.2 ],\n       [ 0.71,  0.29],\n       [ 0.77,  0.23],\n       [ 0.53,  0.47],\n       [ 0.63,  0.37],\n       [ 0.95,  0.05],\n       [ 0.93,  0.07],\n       [ 0.84,  0.16],\n       [ 0.66,  0.34],\n       [ 0.81,  0.19],\n       [ 0.65,  0.35],\n       [ 0.84,  0.16],\n       [ 0.86,  0.14],\n       [ 0.94,  0.06],\n       [ 0.65,  0.35],\n       [ 0.76,  0.24],\n       [ 0.74,  0.26],\n       [ 0.71,  0.29],\n       [ 0.6 ,  0.4 ],\n       [ 0.87,  0.13],\n       [ 0.75,  0.25],\n       [ 0.81,  0.19],\n       [ 0.62,  0.38],\n       [ 0.93,  0.07],\n       [ 0.92,  0.08],\n       [ 0.93,  0.07],\n       [ 0.69,  0.31],\n       [ 0.76,  0.24],\n       [ 0.84,  0.16],\n       [ 0.21,  0.79],\n       [ 0.8 ,  0.2 ],\n       [ 0.86,  0.14],\n       [ 0.64,  0.36],\n       [ 0.81,  0.19],\n       [ 0.77,  0.23],\n       [ 0.71,  0.29],\n       [ 0.92,  0.08],\n       [ 0.36,  0.64],\n       [ 0.77,  0.23],\n       [ 0.93,  0.07],\n       [ 0.96,  0.04],\n       [ 0.74,  0.26],\n       [ 0.87,  0.13],\n       [ 0.92,  0.08],\n       [ 0.73,  0.27],\n       [ 0.71,  0.29],\n       [ 0.47,  0.53],\n       [ 0.31,  0.69],\n       [ 0.97,  0.03],\n       [ 0.96,  0.04],\n       [ 0.92,  0.08],\n       [ 0.96,  0.04],\n       [ 0.63,  0.37],\n       [ 0.88,  0.12],\n       [ 0.76,  0.24],\n       [ 0.74,  0.26],\n       [ 0.94,  0.06],\n       [ 0.42,  0.58],\n       [ 0.55,  0.45],\n       [ 0.86,  0.14],\n       [ 0.98,  0.02],\n       [ 0.98,  0.02],\n       [ 0.86,  0.14],\n       [ 0.65,  0.35],\n       [ 0.75,  0.25],\n       [ 0.75,  0.25],\n       [ 0.9 ,  0.1 ],\n       [ 0.92,  0.08],\n       [ 0.88,  0.12],\n       [ 0.63,  0.37],\n       [ 0.57,  0.43],\n       [ 0.55,  0.45],\n       [ 0.15,  0.85],\n       [ 0.86,  0.14],\n       [ 0.92,  0.08],\n       [ 0.53,  0.47],\n       [ 0.83,  0.17],\n       [ 0.37,  0.63],\n       [ 0.95,  0.05],\n       [ 0.65,  0.35],\n       [ 0.73,  0.27],\n       [ 0.65,  0.35],\n       [ 0.77,  0.23],\n       [ 0.34,  0.66],\n       [ 0.69,  0.31],\n       [ 0.81,  0.19],\n       [ 0.51,  0.49],\n       [ 0.76,  0.24],\n       [ 0.85,  0.15],\n       [ 0.8 ,  0.2 ],\n       [ 0.94,  0.06],\n       [ 0.81,  0.19],\n       [ 0.79,  0.21],\n       [ 0.81,  0.19],\n       [ 0.72,  0.28],\n       [ 0.82,  0.18],\n       [ 0.36,  0.64],\n       [ 0.89,  0.11],\n       [ 0.71,  0.29],\n       [ 0.87,  0.13],\n       [ 0.84,  0.16],\n       [ 0.86,  0.14],\n       [ 0.73,  0.27],\n       [ 0.93,  0.07],\n       [ 0.91,  0.09],\n       [ 0.82,  0.18],\n       [ 0.83,  0.17],\n       [ 0.49,  0.51],\n       [ 0.63,  0.37],\n       [ 0.96,  0.04],\n       [ 0.67,  0.33],\n       [ 0.86,  0.14],\n       [ 0.83,  0.17],\n       [ 0.9 ,  0.1 ],\n       [ 0.95,  0.05],\n       [ 0.78,  0.22],\n       [ 0.88,  0.12],\n       [ 0.84,  0.16],\n       [ 0.49,  0.51],\n       [ 0.95,  0.05],\n       [ 0.89,  0.11],\n       [ 0.97,  0.03],\n       [ 0.56,  0.44],\n       [ 0.89,  0.11],\n       [ 0.51,  0.49],\n       [ 0.87,  0.13],\n       [ 0.7 ,  0.3 ],\n       [ 0.7 ,  0.3 ],\n       [ 0.8 ,  0.2 ],\n       [ 0.78,  0.22],\n       [ 0.61,  0.39],\n       [ 0.35,  0.65],\n       [ 0.9 ,  0.1 ],\n       [ 0.55,  0.45],\n       [ 0.69,  0.31],\n       [ 0.88,  0.12],\n       [ 0.49,  0.51],\n       [ 0.33,  0.67],\n       [ 0.82,  0.18],\n       [ 0.87,  0.13],\n       [ 0.46,  0.54],\n       [ 0.55,  0.45],\n       [ 0.81,  0.19],\n       [ 0.72,  0.28],\n       [ 0.79,  0.21],\n       [ 0.76,  0.24],\n       [ 0.65,  0.35],\n       [ 0.91,  0.09],\n       [ 0.47,  0.53],\n       [ 0.92,  0.08],\n       [ 0.98,  0.02],\n       [ 0.82,  0.18],\n       [ 0.54,  0.46],\n       [ 0.91,  0.09],\n       [ 0.97,  0.03],\n       [ 0.94,  0.06],\n       [ 0.73,  0.27],\n       [ 0.65,  0.35],\n       [ 0.84,  0.16]])"
                    }, 
                    "output_type": "execute_result"
                }
            ], 
            "source": "yhat_prob = LR.predict_proba(x_test)\nyhat_prob"
        }, 
        {
            "execution_count": 155, 
            "cell_type": "code", 
            "metadata": {}, 
            "outputs": [], 
            "source": "#The first column is the probability of class 1, P(Y=1|X), and second column is probability of class 0, P(Y=0|X)"
        }, 
        {
            "execution_count": 156, 
            "cell_type": "code", 
            "metadata": {
                "scrolled": true
            }, 
            "outputs": [
                {
                    "execution_count": 156, 
                    "metadata": {}, 
                    "data": {
                        "text/plain": "0.8294117647058824"
                    }, 
                    "output_type": "execute_result"
                }
            ], 
            "source": "#Jaccard Index\nfrom sklearn.metrics import jaccard_similarity_score\njaccard_similarity_score(y_test, yhat_LR)\n"
        }, 
        {
            "execution_count": 191, 
            "cell_type": "code", 
            "metadata": {}, 
            "outputs": [
                {
                    "output_type": "stream", 
                    "name": "stdout", 
                    "text": "[[  7  21]\n [  8 134]]\n"
                }
            ], 
            "source": "from sklearn.metrics import classification_report, confusion_matrix\nimport itertools\ndef plot_confusion_matrix(cm, classes,\n                          normalize=False,\n                          title='Confusion matrix',\n                          cmap=plt.cm.Blues):\n    \"\"\"\n    This function prints and plots the confusion matrix.\n    Normalization can be applied by setting `normalize=True`.\n    \"\"\"\n    if normalize:\n        cm = cm.astype('float') / cm.sum(axis=1)[:, np.newaxis]\n        print(\"Normalized confusion matrix\")\n    else:\n        print('Confusion matrix, without normalization')\n\n    print(cm)\n\n    plt.imshow(cm, interpolation='nearest', cmap=cmap)\n    plt.title(title)\n    plt.colorbar()\n    tick_marks = np.arange(len(classes))\n    plt.xticks(tick_marks, classes, rotation=45)\n    plt.yticks(tick_marks, classes)\n\n    fmt = '.2f' if normalize else 'd'\n    thresh = cm.max() / 2.\n    for i, j in itertools.product(range(cm.shape[0]), range(cm.shape[1])):\n        plt.text(j, i, format(cm[i, j], fmt),\n                 horizontalalignment=\"center\",\n                 color=\"white\" if cm[i, j] > thresh else \"black\")\n\n    plt.tight_layout()\n    plt.ylabel('True label')\n    plt.xlabel('Predicted label')\nprint(confusion_matrix(y_test, yhat_LR, labels=[1,0]))"
        }, 
        {
            "execution_count": 192, 
            "cell_type": "code", 
            "metadata": {}, 
            "outputs": [
                {
                    "output_type": "stream", 
                    "name": "stdout", 
                    "text": "Confusion matrix, without normalization\n[[  7  21]\n [  8 134]]\n"
                }, 
                {
                    "output_type": "display_data", 
                    "data": {
                        "image/png": "[encoded data removed]", 
                        "text/plain": "<matplotlib.figure.Figure at 0x7fd948cd6198>"
                    }, 
                    "metadata": {}
                }
            ], 
            "source": "# Compute confusion matrix\ncnf_matrix = confusion_matrix(y_test, yhat_LR, labels=[1,0])\nnp.set_printoptions(precision=2)\n\n\n# Plot non-normalized confusion matrix\nplt.figure()\nplot_confusion_matrix(cnf_matrix, classes=['1','0'],normalize= False,  title='Confusion matrix')"
        }, 
        {
            "execution_count": 149, 
            "cell_type": "code", 
            "metadata": {}, 
            "outputs": [
                {
                    "output_type": "stream", 
                    "name": "stdout", 
                    "text": "             precision    recall  f1-score   support\n\n        0.0       0.86      0.94      0.90       142\n        1.0       0.47      0.25      0.33        28\n\navg / total       0.80      0.83      0.81       170\n\n"
                }
            ], 
            "source": "# F1 Score\nfrom sklearn.metrics import classification_report\nprint (classification_report(y_test, yhat_LR))"
        }, 
        {
            "execution_count": 116, 
            "cell_type": "code", 
            "metadata": {}, 
            "outputs": [], 
            "source": "#Precision is a measure of the accuracy provided that a class label has been predicted. It is defined by: precision = TP / (TP + FP)#\n#Recall is true positive rate. It is defined as: Recall = TP / (TP + FN)\n#F1 score is the harmonic average of the precision and recall.\n#F1-score for both labels-> 0.79. But for label 1 f1 score is very less which is very much evident by the confusion matrix."
        }, 
        {
            "execution_count": 117, 
            "cell_type": "code", 
            "metadata": {}, 
            "outputs": [
                {
                    "execution_count": 117, 
                    "metadata": {}, 
                    "data": {
                        "text/plain": "0.47663674763273339"
                    }, 
                    "output_type": "execute_result"
                }
            ], 
            "source": "#Log Loss\nfrom sklearn.metrics import log_loss\nlog_loss(y_test, yhat_prob)"
        }, 
        {
            "execution_count": 165, 
            "cell_type": "code", 
            "metadata": {}, 
            "outputs": [], 
            "source": "#We will perform the same analysis again by using different numerical optimizer to see whether we get lower value of log loss or not. For example 'newton-cg'.\nLR = LogisticRegression(C=0.1, solver='newton-cg').fit(x_train,y_train)\nLR\nfrom sklearn.metrics import jaccard_similarity_score\njaccard_similarity_score(y_test, yhat_LR)\nyhat_prob = LR.predict_proba(x_test)\nyhat_LR = LR.predict(x_test)"
        }, 
        {
            "execution_count": 166, 
            "cell_type": "code", 
            "metadata": {}, 
            "outputs": [
                {
                    "output_type": "stream", 
                    "name": "stdout", 
                    "text": "             precision    recall  f1-score   support\n\n        0.0       0.86      0.94      0.90       142\n        1.0       0.47      0.25      0.33        28\n\navg / total       0.80      0.83      0.81       170\n\n"
                }
            ], 
            "source": "from sklearn.metrics import classification_report\nprint (classification_report(y_test, yhat_LR))"
        }, 
        {
            "execution_count": 167, 
            "cell_type": "code", 
            "metadata": {}, 
            "outputs": [
                {
                    "execution_count": 167, 
                    "metadata": {}, 
                    "data": {
                        "text/plain": "0.39291713877698137"
                    }, 
                    "output_type": "execute_result"
                }
            ], 
            "source": "#Log Loss\nfrom sklearn.metrics import log_loss\nlog_loss(y_test, yhat_prob)"
        }, 
        {
            "execution_count": 122, 
            "cell_type": "code", 
            "metadata": {}, 
            "outputs": [], 
            "source": "# We get lower value of the log loss by using 'newton-cg' instead of 'liblinear' "
        }, 
        {
            "execution_count": 206, 
            "cell_type": "code", 
            "metadata": {}, 
            "outputs": [], 
            "source": "#Support Vector Machine-"
        }, 
        {
            "execution_count": 187, 
            "cell_type": "code", 
            "metadata": {}, 
            "outputs": [
                {
                    "execution_count": 187, 
                    "metadata": {}, 
                    "data": {
                        "text/plain": "SVC(C=1.0, cache_size=200, class_weight=None, coef0=0.0,\n  decision_function_shape='ovr', degree=3, gamma='auto', kernel='linear',\n  max_iter=-1, probability=False, random_state=None, shrinking=True,\n  tol=0.001, verbose=False)"
                    }, 
                    "output_type": "execute_result"
                }
            ], 
            "source": "from sklearn import svm\n#We are using linear kernal function\nSvm = svm.SVC(kernel='linear')\nSvm.fit(x_train, y_train) "
        }, 
        {
            "execution_count": 189, 
            "cell_type": "code", 
            "metadata": {}, 
            "outputs": [
                {
                    "execution_count": 189, 
                    "metadata": {}, 
                    "data": {
                        "text/plain": "array([ 0.,  0.,  0.,  0.,  1.])"
                    }, 
                    "output_type": "execute_result"
                }
            ], 
            "source": "yhat_svm = Svm.predict(x_test)\nyhat_svm [0:5]"
        }, 
        {
            "execution_count": 190, 
            "cell_type": "code", 
            "metadata": {}, 
            "outputs": [], 
            "source": "#Accuracy Evaluation\ndef plot_confusion_matrix(cm, classes,\n                          normalize=False,\n                          title='Confusion matrix',\n                          cmap=plt.cm.Blues):\n    \"\"\"\n    This function prints and plots the confusion matrix.\n    Normalization can be applied by setting `normalize=True`.\n    \"\"\"\n    if normalize:\n        cm = cm.astype('float') / cm.sum(axis=1)[:, np.newaxis]\n        print(\"Normalized confusion matrix\")\n    else:\n        print('Confusion matrix, without normalization')\n\n    print(cm)\n\n    plt.imshow(cm, interpolation='nearest', cmap=cmap)\n    plt.title(title)\n    plt.colorbar()\n    tick_marks = np.arange(len(classes))\n    plt.xticks(tick_marks, classes, rotation=45)\n    plt.yticks(tick_marks, classes)\n\n    fmt = '.2f' if normalize else 'd'\n    thresh = cm.max() / 2.\n    for i, j in itertools.product(range(cm.shape[0]), range(cm.shape[1])):\n        plt.text(j, i, format(cm[i, j], fmt),\n                 horizontalalignment=\"center\",\n                 color=\"white\" if cm[i, j] > thresh else \"black\")\n\n    plt.tight_layout()\n    plt.ylabel('True label')\n    plt.xlabel('Predicted label')"
        }, 
        {
            "execution_count": 193, 
            "cell_type": "code", 
            "metadata": {}, 
            "outputs": [
                {
                    "output_type": "stream", 
                    "name": "stdout", 
                    "text": "             precision    recall  f1-score   support\n\n        0.0       0.85      0.94      0.89       142\n        1.0       0.36      0.18      0.24        28\n\navg / total       0.77      0.81      0.78       170\n\nConfusion matrix, without normalization\n[[133   9]\n [ 23   5]]\n"
                }, 
                {
                    "output_type": "display_data", 
                    "data": {
                        "image/png": "[encoded data removed]", 
                        "text/plain": "<matplotlib.figure.Figure at 0x7fd948cdb630>"
                    }, 
                    "metadata": {}
                }
            ], 
            "source": "# Compute confusion matrix\ncnf_matrix = confusion_matrix(y_test, yhat_svm, labels=[0,1])\nnp.set_printoptions(precision=2)\n\nprint (classification_report(y_test, yhat_svm))\n\n# Plot non-normalized confusion matrix\nplt.figure()\nplot_confusion_matrix(cnf_matrix, classes=['1','0'],normalize= False,  title='Confusion matrix')"
        }, 
        {
            "execution_count": 194, 
            "cell_type": "code", 
            "metadata": {}, 
            "outputs": [
                {
                    "execution_count": 194, 
                    "metadata": {}, 
                    "data": {
                        "text/plain": "0.78481379128832729"
                    }, 
                    "output_type": "execute_result"
                }
            ], 
            "source": "#F1 Score->\nf1_score(y_test, yhat_svm, average='weighted') "
        }, 
        {
            "execution_count": 201, 
            "cell_type": "code", 
            "metadata": {}, 
            "outputs": [
                {
                    "execution_count": 201, 
                    "metadata": {}, 
                    "data": {
                        "text/plain": "0.81176470588235294"
                    }, 
                    "output_type": "execute_result"
                }
            ], 
            "source": "#Jaccard Index->\njaccard_similarity_score(y_test, yhat_svm)"
        }, 
        {
            "execution_count": null, 
            "cell_type": "code", 
            "metadata": {}, 
            "outputs": [], 
            "source": ""
        }
    ], 
    "metadata": {
        "kernelspec": {
            "display_name": "Python 3.5", 
            "name": "python3", 
            "language": "python"
        }, 
        "language_info": {
            "mimetype": "text/x-python", 
            "nbconvert_exporter": "python", 
            "version": "3.5.5", 
            "name": "python", 
            "file_extension": ".py", 
            "pygments_lexer": "ipython3", 
            "codemirror_mode": {
                "version": 3, 
                "name": "ipython"
            }
        }
    }, 
    "nbformat": 4
}